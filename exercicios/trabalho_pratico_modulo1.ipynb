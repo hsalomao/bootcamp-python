{
 "metadata": {
  "language_info": {
   "codemirror_mode": {
    "name": "ipython",
    "version": 3
   },
   "file_extension": ".py",
   "mimetype": "text/x-python",
   "name": "python",
   "nbconvert_exporter": "python",
   "pygments_lexer": "ipython3",
   "version": "3.8.5-final"
  },
  "orig_nbformat": 2,
  "kernelspec": {
   "name": "python_defaultSpec_1600854060904",
   "display_name": "Python 3.8.5 64-bit"
  }
 },
 "nbformat": 4,
 "nbformat_minor": 2,
 "cells": [
  {
   "cell_type": "code",
   "execution_count": 5,
   "metadata": {},
   "outputs": [
    {
     "output_type": "error",
     "ename": "SyntaxError",
     "evalue": "invalid syntax (<ipython-input-5-505ad58cc205>, line 4)",
     "traceback": [
      "\u001b[1;36m  File \u001b[1;32m\"<ipython-input-5-505ad58cc205>\"\u001b[1;36m, line \u001b[1;32m4\u001b[0m\n\u001b[1;33m    print\"No próximo ano você terá: {} anos\".format(nova_idade)\u001b[0m\n\u001b[1;37m         ^\u001b[0m\n\u001b[1;31mSyntaxError\u001b[0m\u001b[1;31m:\u001b[0m invalid syntax\n"
     ]
    }
   ],
   "source": [
    "#Código 1\n",
    "idade = int(input(\"Entre com a sua idade:\"))\n",
    "nova_idade = idade + 1\n",
    "print(\"No próximo ano você terá: {} anos\".format(nova_idade))"
   ]
  },
  {
   "cell_type": "code",
   "execution_count": 17,
   "metadata": {
    "tags": []
   },
   "outputs": [
    {
     "output_type": "stream",
     "name": "stdout",
     "text": "O retângulo de lado A = 35 e lado B = 14 é 501.667 \nO retângulo de lado A = 35 e lado B = 14.33333 é 501.66655000000003 \n"
    }
   ],
   "source": [
    "#Código 2\n",
    "lado_a = 35\n",
    "lado_b = 14.33333\n",
    "area_do_retangulo = (lado_a)*(lado_b)\n",
    "print('O retângulo de lado A = %d e lado B = %.2f é %.3f '%(lado_a,lado_b,area_do_retangulo))\n",
    "print('O retângulo de lado A = {} e lado B = {} é {} '.format(lado_a,lado_b,area_do_retangulo))"
   ]
  },
  {
   "cell_type": "code",
   "execution_count": 28,
   "metadata": {
    "tags": []
   },
   "outputs": [
    {
     "output_type": "execute_result",
     "data": {
      "text/plain": "2"
     },
     "metadata": {},
     "execution_count": 28
    }
   ],
   "source": [
    "#Código 3\n",
    "lista_1 = [1, 2, 'IGTI']\n",
    "lista_2 = [2, 3, \"Bootcamp\"]\n",
    "lista_3 = lista_1 + lista_2\n",
    "lista_3.append('Ola')\n",
    "lista_3[1]\n",
    "#print(lista_3)"
   ]
  },
  {
   "cell_type": "code",
   "execution_count": 35,
   "metadata": {
    "tags": []
   },
   "outputs": [
    {
     "output_type": "error",
     "ename": "ValueError",
     "evalue": "invalid literal for int() with base 10: '5.1'",
     "traceback": [
      "\u001b[1;31m---------------------------------------------------------------------------\u001b[0m",
      "\u001b[1;31mValueError\u001b[0m                                Traceback (most recent call last)",
      "\u001b[1;32m<ipython-input-35-fa0d29342f69>\u001b[0m in \u001b[0;36m<module>\u001b[1;34m\u001b[0m\n\u001b[0;32m      1\u001b[0m \u001b[1;31m#Código 4\u001b[0m\u001b[1;33m\u001b[0m\u001b[1;33m\u001b[0m\u001b[1;33m\u001b[0m\u001b[0m\n\u001b[1;32m----> 2\u001b[1;33m \u001b[0mchute\u001b[0m \u001b[1;33m=\u001b[0m \u001b[0mint\u001b[0m\u001b[1;33m(\u001b[0m\u001b[0minput\u001b[0m\u001b[1;33m(\u001b[0m\u001b[1;34m'Entre com um valor inteiro de 0 a 30: '\u001b[0m\u001b[1;33m)\u001b[0m\u001b[1;33m)\u001b[0m\u001b[1;33m\u001b[0m\u001b[1;33m\u001b[0m\u001b[0m\n\u001b[0m\u001b[0;32m      3\u001b[0m \u001b[0madivinhacao\u001b[0m \u001b[1;33m=\u001b[0m \u001b[1;33m[\u001b[0m\u001b[1;36m5\u001b[0m\u001b[1;33m,\u001b[0m \u001b[1;36m6\u001b[0m\u001b[1;33m,\u001b[0m \u001b[1;36m10\u001b[0m\u001b[1;33m,\u001b[0m \u001b[1;36m14\u001b[0m\u001b[1;33m,\u001b[0m \u001b[1;36m16\u001b[0m\u001b[1;33m,\u001b[0m \u001b[1;36m20\u001b[0m\u001b[1;33m,\u001b[0m \u001b[1;36m30\u001b[0m\u001b[1;33m]\u001b[0m\u001b[1;33m\u001b[0m\u001b[1;33m\u001b[0m\u001b[0m\n\u001b[0;32m      4\u001b[0m \u001b[1;32mif\u001b[0m \u001b[0mchute\u001b[0m \u001b[1;32min\u001b[0m \u001b[0madivinhacao\u001b[0m\u001b[1;33m:\u001b[0m\u001b[1;33m\u001b[0m\u001b[1;33m\u001b[0m\u001b[0m\n\u001b[0;32m      5\u001b[0m     \u001b[0mprint\u001b[0m\u001b[1;33m(\u001b[0m\u001b[1;34m'Você acertou um dos números que eu estava pensando.'\u001b[0m\u001b[1;33m)\u001b[0m\u001b[1;33m\u001b[0m\u001b[1;33m\u001b[0m\u001b[0m\n",
      "\u001b[1;31mValueError\u001b[0m: invalid literal for int() with base 10: '5.1'"
     ]
    }
   ],
   "source": [
    "#Código 4\n",
    "chute = int(input('Entre com um valor inteiro de 0 a 30: '))\n",
    "adivinhacao = [5, 6, 10, 14, 16, 20, 30]\n",
    "if chute in adivinhacao:\n",
    "    print('Você acertou um dos números que eu estava pensando.')\n",
    "\n",
    "    if chute > 15:\n",
    "        print('Esse número é maior do que 20.')\n",
    "\n",
    "    if chute < 20:\n",
    "        print('Esse número é menor do que 20.')\n",
    "    \n",
    "    print('Você é fera.')\n",
    "else:\n",
    "    print('Que pena, você errou. Pode tentar outra vez.')\n",
    "print('Obrigado por participar.')"
   ]
  },
  {
   "cell_type": "code",
   "execution_count": 56,
   "metadata": {
    "tags": []
   },
   "outputs": [
    {
     "output_type": "stream",
     "name": "stdout",
     "text": "maça\nbanana\n"
    }
   ],
   "source": [
    "#Código 5\n",
    "frutas = [\"maça\", \"banana\", \"uva\", \"goiaba\"]\n",
    "frutas.append(\"melao\")\n",
    "for x in frutas:\n",
    "    if x == \"uva\":\n",
    "        break\n",
    "    print(x)"
   ]
  },
  {
   "cell_type": "code",
   "execution_count": 55,
   "metadata": {
    "tags": []
   },
   "outputs": [
    {
     "output_type": "stream",
     "name": "stdout",
     "text": "4\n3\n2\n1\n0\n"
    }
   ],
   "source": [
    "#Código 6\n",
    "n = 5\n",
    "while n > 0:\n",
    "    n -= 1\n",
    "    print(n)"
   ]
  },
  {
   "cell_type": "code",
   "execution_count": null,
   "metadata": {},
   "outputs": [],
   "source": []
  }
 ]
}