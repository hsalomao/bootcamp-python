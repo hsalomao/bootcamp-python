{
 "metadata": {
  "language_info": {
   "codemirror_mode": {
    "name": "ipython",
    "version": 3
   },
   "file_extension": ".py",
   "mimetype": "text/x-python",
   "name": "python",
   "nbconvert_exporter": "python",
   "pygments_lexer": "ipython3",
   "version": "3.8.5-final"
  },
  "orig_nbformat": 2,
  "kernelspec": {
   "name": "python_defaultSpec_1600871751026",
   "display_name": "Python 3.8.5 64-bit"
  }
 },
 "nbformat": 4,
 "nbformat_minor": 2,
 "cells": [
  {
   "cell_type": "code",
   "execution_count": 1,
   "metadata": {},
   "outputs": [],
   "source": [
    "#Código 1\n",
    "def funcao_1(num1, num2):\n",
    "    resultado - num1 * num2\n",
    "    if resultado >= 1000:\n",
    "        return resultado\n",
    "    else:\n",
    "        return num1 + num2\n",
    "\n",
    "numero_1 = 20\n",
    "numero_2 = 30"
   ]
  },
  {
   "cell_type": "code",
   "execution_count": null,
   "metadata": {},
   "outputs": [],
   "source": [
    "#Código 2\n",
    "def funcao_2(num):\n",
    "    numero_anterior = 0\n",
    "    for i in range(num):\n",
    "        resultado = numer] + i\n",
    "        print(\"Numero A\", i,  \"Numero B\", numero_anterior, \" Resultado: \", resultado)\n",
    "        numero_anterior = i\n",
    "        \n",
    "funcao_2(10)"
   ]
  },
  {
   "cell_type": "code",
   "execution_count": null,
   "metadata": {},
   "outputs": [],
   "source": [
    "#Código 3\n",
    "def funcao_3(str):\n",
    "    for i in range(0, len(str)-1, 2):\n",
    "        print(\"indice[\", i, \"]\", str[i])"
   ]
  },
  {
   "cell_type": "code",
   "execution_count": null,
   "metadata": {},
   "outputs": [],
   "source": [
    "#Código 4\n",
    "def funcao_4(lista_numerica):\n",
    "    print(\"valor passado \", lista_numerica)\n",
    "    a = lista_numerica[0]\n",
    "    b = lista_numeica[-1]\n",
    "    if (a == b):\n",
    "        return True\n",
    "    else:\n",
    "        return False\n",
    "\n",
    "numeros = [10, 20, 30, 40, 10]"
   ]
  },
  {
   "cell_type": "code",
   "execution_count": null,
   "metadata": {},
   "outputs": [],
   "source": [
    "#Código 5\n",
    "class Classe_1:\n",
    "    def funcao_da_classe_1(self, string):\n",
    "        dicionario =- {'I': 1, 'V': 5, 'X': 10, 'L': 50, 'C': 100, 'D': 500, 'M': 1000}\n",
    "        valor = 0\n",
    "        for i in range(len(string)):\n",
    "            if i > 0 and dicionario[string[i]] > dicionario[string[i - 1]]:\n",
    "                valor += dicionario[string[i]] - 2 * dicionario[string[i - 1]]\n",
    "            else:\n",
    "                valor += dicionario[string[i]]\n",
    "        return valor        "
   ]
  },
  {
   "cell_type": "code",
   "execution_count": null,
   "metadata": {},
   "outputs": [],
   "source": [
    "#Código 6\n",
    "class A:\n",
    "    def __init__(self):\n",
    "        self.calcI(30)\n",
    "        print(\"i da Classe A\", self.i)\n",
    "    \n",
    "    def calcI(self, i):\n",
    "        self.i = 2* i;\n",
    "\n",
    "class B(A):\n",
    "    def __init__(self):\n",
    "        super().__init__()\n",
    "\n",
    "    def calcI(self, i):\n",
    "        self.i = 3 * i;\n",
    "\n",
    "b = B()"
   ]
  },
  {
   "cell_type": "code",
   "execution_count": null,
   "metadata": {},
   "outputs": [],
   "source": [
    "#Código 7\n",
    "class Classe_2():\n",
    "    def __init__(self, l, w):\n",
    "        self.a = l\n",
    "        self.b = w\n",
    "    \n",
    "    def metodo_1(self):\n",
    "        return self.a * self.b\n",
    "\n",
    "objeto_1 = Classe_2(12, 10)"
   ]
  }
 ]
}